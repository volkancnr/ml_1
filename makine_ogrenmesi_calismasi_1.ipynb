{
 "cells": [
  {
   "cell_type": "code",
   "execution_count": 1,
   "metadata": {},
   "outputs": [],
   "source": [
    "import numpy as np \n",
    "import pandas as pd \n",
    "import seaborn as sns \n",
    "import matplotlib.pyplot as plt\n",
    "import pylab\n",
    "import scipy.stats as stats\n",
    "import statsmodels.api as sm"
   ]
  },
  {
   "cell_type": "code",
   "execution_count": 2,
   "metadata": {},
   "outputs": [
    {
     "name": "stderr",
     "output_type": "stream",
     "text": [
      "C:\\Users\\user\\AppData\\Local\\Temp\\ipykernel_8352\\9058062.py:1: DtypeWarning: Columns (31) have mixed types. Specify dtype option on import or set low_memory=False.\n",
      "  df= pd.read_csv(\"accidents_2012_to_2014.csv\")\n"
     ]
    }
   ],
   "source": [
    "df= pd.read_csv(\"accidents_2012_to_2014.csv\")\n"
   ]
  },
  {
   "cell_type": "code",
   "execution_count": 3,
   "metadata": {},
   "outputs": [],
   "source": [
    "df = df.drop(columns=[\n",
    "    'Accident_Index',\n",
    "    'Special_Conditions_at_Site',\n",
    "    'Carriageway_Hazards',\n",
    "    'Junction_Detail',\n",
    "    'LSOA_of_Accident_Location',\n",
    "    'Location_Easting_OSGR',\n",
    "    'Location_Northing_OSGR',\n",
    "    '1st_Road_Class',\n",
    "    '1st_Road_Number',\n",
    "    '2nd_Road_Class',\n",
    "    '2nd_Road_Number',\n",
    "    'Junction_Control',\n",
    "    'Latitude',\n",
    "    'Police_Force',\n",
    "    'Time',\n",
    "    'Date'\n",
    "])"
   ]
  },
  {
   "cell_type": "code",
   "execution_count": 4,
   "metadata": {},
   "outputs": [
    {
     "data": {
      "text/html": [
       "<div>\n",
       "<style scoped>\n",
       "    .dataframe tbody tr th:only-of-type {\n",
       "        vertical-align: middle;\n",
       "    }\n",
       "\n",
       "    .dataframe tbody tr th {\n",
       "        vertical-align: top;\n",
       "    }\n",
       "\n",
       "    .dataframe thead th {\n",
       "        text-align: right;\n",
       "    }\n",
       "</style>\n",
       "<table border=\"1\" class=\"dataframe\">\n",
       "  <thead>\n",
       "    <tr style=\"text-align: right;\">\n",
       "      <th></th>\n",
       "      <th>Longitude</th>\n",
       "      <th>Accident_Severity</th>\n",
       "      <th>Number_of_Vehicles</th>\n",
       "      <th>Number_of_Casualties</th>\n",
       "      <th>Day_of_Week</th>\n",
       "      <th>Local_Authority_(District)</th>\n",
       "      <th>Local_Authority_(Highway)</th>\n",
       "      <th>Road_Type</th>\n",
       "      <th>Speed_limit</th>\n",
       "      <th>Pedestrian_Crossing-Human_Control</th>\n",
       "      <th>Pedestrian_Crossing-Physical_Facilities</th>\n",
       "      <th>Light_Conditions</th>\n",
       "      <th>Weather_Conditions</th>\n",
       "      <th>Road_Surface_Conditions</th>\n",
       "      <th>Urban_or_Rural_Area</th>\n",
       "      <th>Did_Police_Officer_Attend_Scene_of_Accident</th>\n",
       "      <th>Year</th>\n",
       "    </tr>\n",
       "  </thead>\n",
       "  <tbody>\n",
       "    <tr>\n",
       "      <th>0</th>\n",
       "      <td>-0.169101</td>\n",
       "      <td>3</td>\n",
       "      <td>2</td>\n",
       "      <td>1</td>\n",
       "      <td>5</td>\n",
       "      <td>12</td>\n",
       "      <td>E09000020</td>\n",
       "      <td>Single carriageway</td>\n",
       "      <td>30</td>\n",
       "      <td>None within 50 metres</td>\n",
       "      <td>Pedestrian phase at traffic signal junction</td>\n",
       "      <td>Darkness: Street lights present and lit</td>\n",
       "      <td>Fine without high winds</td>\n",
       "      <td>Dry</td>\n",
       "      <td>1</td>\n",
       "      <td>Yes</td>\n",
       "      <td>2012</td>\n",
       "    </tr>\n",
       "    <tr>\n",
       "      <th>1</th>\n",
       "      <td>-0.200838</td>\n",
       "      <td>3</td>\n",
       "      <td>2</td>\n",
       "      <td>1</td>\n",
       "      <td>4</td>\n",
       "      <td>1</td>\n",
       "      <td>E09000033</td>\n",
       "      <td>Single carriageway</td>\n",
       "      <td>30</td>\n",
       "      <td>None within 50 metres</td>\n",
       "      <td>No physical crossing within 50 meters</td>\n",
       "      <td>Darkness: Street lights present and lit</td>\n",
       "      <td>Fine without high winds</td>\n",
       "      <td>Dry</td>\n",
       "      <td>1</td>\n",
       "      <td>Yes</td>\n",
       "      <td>2012</td>\n",
       "    </tr>\n",
       "    <tr>\n",
       "      <th>2</th>\n",
       "      <td>-0.188636</td>\n",
       "      <td>3</td>\n",
       "      <td>2</td>\n",
       "      <td>1</td>\n",
       "      <td>3</td>\n",
       "      <td>12</td>\n",
       "      <td>E09000020</td>\n",
       "      <td>One way street</td>\n",
       "      <td>30</td>\n",
       "      <td>None within 50 metres</td>\n",
       "      <td>non-junction pedestrian crossing</td>\n",
       "      <td>Daylight: Street light present</td>\n",
       "      <td>Fine without high winds</td>\n",
       "      <td>Dry</td>\n",
       "      <td>1</td>\n",
       "      <td>Yes</td>\n",
       "      <td>2012</td>\n",
       "    </tr>\n",
       "    <tr>\n",
       "      <th>3</th>\n",
       "      <td>-0.200259</td>\n",
       "      <td>3</td>\n",
       "      <td>1</td>\n",
       "      <td>1</td>\n",
       "      <td>4</td>\n",
       "      <td>12</td>\n",
       "      <td>E09000020</td>\n",
       "      <td>Single carriageway</td>\n",
       "      <td>30</td>\n",
       "      <td>None within 50 metres</td>\n",
       "      <td>No physical crossing within 50 meters</td>\n",
       "      <td>Daylight: Street light present</td>\n",
       "      <td>Fine without high winds</td>\n",
       "      <td>Dry</td>\n",
       "      <td>1</td>\n",
       "      <td>Yes</td>\n",
       "      <td>2012</td>\n",
       "    </tr>\n",
       "    <tr>\n",
       "      <th>4</th>\n",
       "      <td>-0.183773</td>\n",
       "      <td>3</td>\n",
       "      <td>1</td>\n",
       "      <td>1</td>\n",
       "      <td>3</td>\n",
       "      <td>12</td>\n",
       "      <td>E09000020</td>\n",
       "      <td>Single carriageway</td>\n",
       "      <td>30</td>\n",
       "      <td>None within 50 metres</td>\n",
       "      <td>No physical crossing within 50 meters</td>\n",
       "      <td>Darkness: Street lights present and lit</td>\n",
       "      <td>Fine without high winds</td>\n",
       "      <td>Dry</td>\n",
       "      <td>1</td>\n",
       "      <td>Yes</td>\n",
       "      <td>2012</td>\n",
       "    </tr>\n",
       "    <tr>\n",
       "      <th>...</th>\n",
       "      <td>...</td>\n",
       "      <td>...</td>\n",
       "      <td>...</td>\n",
       "      <td>...</td>\n",
       "      <td>...</td>\n",
       "      <td>...</td>\n",
       "      <td>...</td>\n",
       "      <td>...</td>\n",
       "      <td>...</td>\n",
       "      <td>...</td>\n",
       "      <td>...</td>\n",
       "      <td>...</td>\n",
       "      <td>...</td>\n",
       "      <td>...</td>\n",
       "      <td>...</td>\n",
       "      <td>...</td>\n",
       "      <td>...</td>\n",
       "    </tr>\n",
       "    <tr>\n",
       "      <th>464692</th>\n",
       "      <td>-3.417278</td>\n",
       "      <td>2</td>\n",
       "      <td>2</td>\n",
       "      <td>1</td>\n",
       "      <td>1</td>\n",
       "      <td>917</td>\n",
       "      <td>S12000006</td>\n",
       "      <td>Dual carriageway</td>\n",
       "      <td>70</td>\n",
       "      <td>None within 50 metres</td>\n",
       "      <td>No physical crossing within 50 meters</td>\n",
       "      <td>Darkeness: No street lighting</td>\n",
       "      <td>Snowing without high winds</td>\n",
       "      <td>Snow</td>\n",
       "      <td>2</td>\n",
       "      <td>Yes</td>\n",
       "      <td>2014</td>\n",
       "    </tr>\n",
       "    <tr>\n",
       "      <th>464693</th>\n",
       "      <td>-3.230255</td>\n",
       "      <td>3</td>\n",
       "      <td>2</td>\n",
       "      <td>2</td>\n",
       "      <td>5</td>\n",
       "      <td>917</td>\n",
       "      <td>S12000006</td>\n",
       "      <td>Dual carriageway</td>\n",
       "      <td>70</td>\n",
       "      <td>None within 50 metres</td>\n",
       "      <td>No physical crossing within 50 meters</td>\n",
       "      <td>Darkeness: No street lighting</td>\n",
       "      <td>Fine without high winds</td>\n",
       "      <td>Snow</td>\n",
       "      <td>2</td>\n",
       "      <td>Yes</td>\n",
       "      <td>2014</td>\n",
       "    </tr>\n",
       "    <tr>\n",
       "      <th>464694</th>\n",
       "      <td>-3.230826</td>\n",
       "      <td>3</td>\n",
       "      <td>1</td>\n",
       "      <td>1</td>\n",
       "      <td>3</td>\n",
       "      <td>917</td>\n",
       "      <td>S12000006</td>\n",
       "      <td>Single carriageway</td>\n",
       "      <td>40</td>\n",
       "      <td>None within 50 metres</td>\n",
       "      <td>No physical crossing within 50 meters</td>\n",
       "      <td>Darkness: Street lights present and lit</td>\n",
       "      <td>Fine without high winds</td>\n",
       "      <td>Frost/Ice</td>\n",
       "      <td>2</td>\n",
       "      <td>Yes</td>\n",
       "      <td>2014</td>\n",
       "    </tr>\n",
       "    <tr>\n",
       "      <th>464695</th>\n",
       "      <td>-3.191397</td>\n",
       "      <td>2</td>\n",
       "      <td>3</td>\n",
       "      <td>2</td>\n",
       "      <td>4</td>\n",
       "      <td>917</td>\n",
       "      <td>S12000006</td>\n",
       "      <td>Single carriageway</td>\n",
       "      <td>60</td>\n",
       "      <td>None within 50 metres</td>\n",
       "      <td>No physical crossing within 50 meters</td>\n",
       "      <td>Darkeness: No street lighting</td>\n",
       "      <td>Raining without high winds</td>\n",
       "      <td>Wet/Damp</td>\n",
       "      <td>2</td>\n",
       "      <td>Yes</td>\n",
       "      <td>2014</td>\n",
       "    </tr>\n",
       "    <tr>\n",
       "      <th>464696</th>\n",
       "      <td>-3.348426</td>\n",
       "      <td>3</td>\n",
       "      <td>2</td>\n",
       "      <td>2</td>\n",
       "      <td>4</td>\n",
       "      <td>917</td>\n",
       "      <td>S12000006</td>\n",
       "      <td>Single carriageway</td>\n",
       "      <td>60</td>\n",
       "      <td>None within 50 metres</td>\n",
       "      <td>No physical crossing within 50 meters</td>\n",
       "      <td>Daylight: Street light present</td>\n",
       "      <td>Fine without high winds</td>\n",
       "      <td>Wet/Damp</td>\n",
       "      <td>2</td>\n",
       "      <td>Yes</td>\n",
       "      <td>2014</td>\n",
       "    </tr>\n",
       "  </tbody>\n",
       "</table>\n",
       "<p>464697 rows × 17 columns</p>\n",
       "</div>"
      ],
      "text/plain": [
       "        Longitude  Accident_Severity  Number_of_Vehicles  \\\n",
       "0       -0.169101                  3                   2   \n",
       "1       -0.200838                  3                   2   \n",
       "2       -0.188636                  3                   2   \n",
       "3       -0.200259                  3                   1   \n",
       "4       -0.183773                  3                   1   \n",
       "...           ...                ...                 ...   \n",
       "464692  -3.417278                  2                   2   \n",
       "464693  -3.230255                  3                   2   \n",
       "464694  -3.230826                  3                   1   \n",
       "464695  -3.191397                  2                   3   \n",
       "464696  -3.348426                  3                   2   \n",
       "\n",
       "        Number_of_Casualties  Day_of_Week  Local_Authority_(District)  \\\n",
       "0                          1            5                          12   \n",
       "1                          1            4                           1   \n",
       "2                          1            3                          12   \n",
       "3                          1            4                          12   \n",
       "4                          1            3                          12   \n",
       "...                      ...          ...                         ...   \n",
       "464692                     1            1                         917   \n",
       "464693                     2            5                         917   \n",
       "464694                     1            3                         917   \n",
       "464695                     2            4                         917   \n",
       "464696                     2            4                         917   \n",
       "\n",
       "       Local_Authority_(Highway)           Road_Type  Speed_limit  \\\n",
       "0                      E09000020  Single carriageway           30   \n",
       "1                      E09000033  Single carriageway           30   \n",
       "2                      E09000020      One way street           30   \n",
       "3                      E09000020  Single carriageway           30   \n",
       "4                      E09000020  Single carriageway           30   \n",
       "...                          ...                 ...          ...   \n",
       "464692                 S12000006    Dual carriageway           70   \n",
       "464693                 S12000006    Dual carriageway           70   \n",
       "464694                 S12000006  Single carriageway           40   \n",
       "464695                 S12000006  Single carriageway           60   \n",
       "464696                 S12000006  Single carriageway           60   \n",
       "\n",
       "       Pedestrian_Crossing-Human_Control  \\\n",
       "0                  None within 50 metres   \n",
       "1                  None within 50 metres   \n",
       "2                  None within 50 metres   \n",
       "3                  None within 50 metres   \n",
       "4                  None within 50 metres   \n",
       "...                                  ...   \n",
       "464692             None within 50 metres   \n",
       "464693             None within 50 metres   \n",
       "464694             None within 50 metres   \n",
       "464695             None within 50 metres   \n",
       "464696             None within 50 metres   \n",
       "\n",
       "            Pedestrian_Crossing-Physical_Facilities  \\\n",
       "0       Pedestrian phase at traffic signal junction   \n",
       "1             No physical crossing within 50 meters   \n",
       "2                  non-junction pedestrian crossing   \n",
       "3             No physical crossing within 50 meters   \n",
       "4             No physical crossing within 50 meters   \n",
       "...                                             ...   \n",
       "464692        No physical crossing within 50 meters   \n",
       "464693        No physical crossing within 50 meters   \n",
       "464694        No physical crossing within 50 meters   \n",
       "464695        No physical crossing within 50 meters   \n",
       "464696        No physical crossing within 50 meters   \n",
       "\n",
       "                               Light_Conditions          Weather_Conditions  \\\n",
       "0       Darkness: Street lights present and lit     Fine without high winds   \n",
       "1       Darkness: Street lights present and lit     Fine without high winds   \n",
       "2                Daylight: Street light present     Fine without high winds   \n",
       "3                Daylight: Street light present     Fine without high winds   \n",
       "4       Darkness: Street lights present and lit     Fine without high winds   \n",
       "...                                         ...                         ...   \n",
       "464692            Darkeness: No street lighting  Snowing without high winds   \n",
       "464693            Darkeness: No street lighting     Fine without high winds   \n",
       "464694  Darkness: Street lights present and lit     Fine without high winds   \n",
       "464695            Darkeness: No street lighting  Raining without high winds   \n",
       "464696           Daylight: Street light present     Fine without high winds   \n",
       "\n",
       "       Road_Surface_Conditions  Urban_or_Rural_Area  \\\n",
       "0                          Dry                    1   \n",
       "1                          Dry                    1   \n",
       "2                          Dry                    1   \n",
       "3                          Dry                    1   \n",
       "4                          Dry                    1   \n",
       "...                        ...                  ...   \n",
       "464692                    Snow                    2   \n",
       "464693                    Snow                    2   \n",
       "464694               Frost/Ice                    2   \n",
       "464695                Wet/Damp                    2   \n",
       "464696                Wet/Damp                    2   \n",
       "\n",
       "       Did_Police_Officer_Attend_Scene_of_Accident  Year  \n",
       "0                                              Yes  2012  \n",
       "1                                              Yes  2012  \n",
       "2                                              Yes  2012  \n",
       "3                                              Yes  2012  \n",
       "4                                              Yes  2012  \n",
       "...                                            ...   ...  \n",
       "464692                                         Yes  2014  \n",
       "464693                                         Yes  2014  \n",
       "464694                                         Yes  2014  \n",
       "464695                                         Yes  2014  \n",
       "464696                                         Yes  2014  \n",
       "\n",
       "[464697 rows x 17 columns]"
      ]
     },
     "execution_count": 4,
     "metadata": {},
     "output_type": "execute_result"
    }
   ],
   "source": [
    "\n",
    "df"
   ]
  },
  {
   "cell_type": "code",
   "execution_count": 5,
   "metadata": {},
   "outputs": [
    {
     "data": {
      "text/html": [
       "<div>\n",
       "<style scoped>\n",
       "    .dataframe tbody tr th:only-of-type {\n",
       "        vertical-align: middle;\n",
       "    }\n",
       "\n",
       "    .dataframe tbody tr th {\n",
       "        vertical-align: top;\n",
       "    }\n",
       "\n",
       "    .dataframe thead th {\n",
       "        text-align: right;\n",
       "    }\n",
       "</style>\n",
       "<table border=\"1\" class=\"dataframe\">\n",
       "  <thead>\n",
       "    <tr style=\"text-align: right;\">\n",
       "      <th></th>\n",
       "      <th>count</th>\n",
       "      <th>mean</th>\n",
       "      <th>std</th>\n",
       "      <th>min</th>\n",
       "      <th>25%</th>\n",
       "      <th>50%</th>\n",
       "      <th>75%</th>\n",
       "      <th>max</th>\n",
       "    </tr>\n",
       "  </thead>\n",
       "  <tbody>\n",
       "    <tr>\n",
       "      <th>Longitude</th>\n",
       "      <td>464697.0</td>\n",
       "      <td>-1.375156</td>\n",
       "      <td>1.382137</td>\n",
       "      <td>-7.509162</td>\n",
       "      <td>-2.315799</td>\n",
       "      <td>-1.323374</td>\n",
       "      <td>-0.192935</td>\n",
       "      <td>1.759382</td>\n",
       "    </tr>\n",
       "    <tr>\n",
       "      <th>Accident_Severity</th>\n",
       "      <td>464697.0</td>\n",
       "      <td>2.833461</td>\n",
       "      <td>0.402029</td>\n",
       "      <td>1.000000</td>\n",
       "      <td>3.000000</td>\n",
       "      <td>3.000000</td>\n",
       "      <td>3.000000</td>\n",
       "      <td>3.000000</td>\n",
       "    </tr>\n",
       "    <tr>\n",
       "      <th>Number_of_Vehicles</th>\n",
       "      <td>464697.0</td>\n",
       "      <td>1.828086</td>\n",
       "      <td>0.708703</td>\n",
       "      <td>1.000000</td>\n",
       "      <td>1.000000</td>\n",
       "      <td>2.000000</td>\n",
       "      <td>2.000000</td>\n",
       "      <td>67.000000</td>\n",
       "    </tr>\n",
       "    <tr>\n",
       "      <th>Number_of_Casualties</th>\n",
       "      <td>464697.0</td>\n",
       "      <td>1.334420</td>\n",
       "      <td>0.821047</td>\n",
       "      <td>1.000000</td>\n",
       "      <td>1.000000</td>\n",
       "      <td>1.000000</td>\n",
       "      <td>1.000000</td>\n",
       "      <td>93.000000</td>\n",
       "    </tr>\n",
       "    <tr>\n",
       "      <th>Day_of_Week</th>\n",
       "      <td>464697.0</td>\n",
       "      <td>4.108740</td>\n",
       "      <td>1.916429</td>\n",
       "      <td>1.000000</td>\n",
       "      <td>2.000000</td>\n",
       "      <td>4.000000</td>\n",
       "      <td>6.000000</td>\n",
       "      <td>7.000000</td>\n",
       "    </tr>\n",
       "    <tr>\n",
       "      <th>Local_Authority_(District)</th>\n",
       "      <td>464697.0</td>\n",
       "      <td>329.123829</td>\n",
       "      <td>259.222621</td>\n",
       "      <td>1.000000</td>\n",
       "      <td>95.000000</td>\n",
       "      <td>300.000000</td>\n",
       "      <td>511.000000</td>\n",
       "      <td>941.000000</td>\n",
       "    </tr>\n",
       "    <tr>\n",
       "      <th>Speed_limit</th>\n",
       "      <td>464697.0</td>\n",
       "      <td>38.229793</td>\n",
       "      <td>13.800546</td>\n",
       "      <td>10.000000</td>\n",
       "      <td>30.000000</td>\n",
       "      <td>30.000000</td>\n",
       "      <td>40.000000</td>\n",
       "      <td>70.000000</td>\n",
       "    </tr>\n",
       "    <tr>\n",
       "      <th>Urban_or_Rural_Area</th>\n",
       "      <td>464697.0</td>\n",
       "      <td>1.337426</td>\n",
       "      <td>0.472832</td>\n",
       "      <td>1.000000</td>\n",
       "      <td>1.000000</td>\n",
       "      <td>1.000000</td>\n",
       "      <td>2.000000</td>\n",
       "      <td>2.000000</td>\n",
       "    </tr>\n",
       "    <tr>\n",
       "      <th>Year</th>\n",
       "      <td>464697.0</td>\n",
       "      <td>2012.928140</td>\n",
       "      <td>0.834536</td>\n",
       "      <td>2012.000000</td>\n",
       "      <td>2012.000000</td>\n",
       "      <td>2013.000000</td>\n",
       "      <td>2014.000000</td>\n",
       "      <td>2014.000000</td>\n",
       "    </tr>\n",
       "  </tbody>\n",
       "</table>\n",
       "</div>"
      ],
      "text/plain": [
       "                               count         mean         std          min  \\\n",
       "Longitude                   464697.0    -1.375156    1.382137    -7.509162   \n",
       "Accident_Severity           464697.0     2.833461    0.402029     1.000000   \n",
       "Number_of_Vehicles          464697.0     1.828086    0.708703     1.000000   \n",
       "Number_of_Casualties        464697.0     1.334420    0.821047     1.000000   \n",
       "Day_of_Week                 464697.0     4.108740    1.916429     1.000000   \n",
       "Local_Authority_(District)  464697.0   329.123829  259.222621     1.000000   \n",
       "Speed_limit                 464697.0    38.229793   13.800546    10.000000   \n",
       "Urban_or_Rural_Area         464697.0     1.337426    0.472832     1.000000   \n",
       "Year                        464697.0  2012.928140    0.834536  2012.000000   \n",
       "\n",
       "                                    25%          50%          75%          max  \n",
       "Longitude                     -2.315799    -1.323374    -0.192935     1.759382  \n",
       "Accident_Severity              3.000000     3.000000     3.000000     3.000000  \n",
       "Number_of_Vehicles             1.000000     2.000000     2.000000    67.000000  \n",
       "Number_of_Casualties           1.000000     1.000000     1.000000    93.000000  \n",
       "Day_of_Week                    2.000000     4.000000     6.000000     7.000000  \n",
       "Local_Authority_(District)    95.000000   300.000000   511.000000   941.000000  \n",
       "Speed_limit                   30.000000    30.000000    40.000000    70.000000  \n",
       "Urban_or_Rural_Area            1.000000     1.000000     2.000000     2.000000  \n",
       "Year                        2012.000000  2013.000000  2014.000000  2014.000000  "
      ]
     },
     "execution_count": 5,
     "metadata": {},
     "output_type": "execute_result"
    }
   ],
   "source": [
    "df.describe().T"
   ]
  },
  {
   "cell_type": "code",
   "execution_count": 6,
   "metadata": {},
   "outputs": [
    {
     "data": {
      "text/plain": [
       "Longitude  Accident_Severity  Number_of_Vehicles  Number_of_Casualties  Day_of_Week  Local_Authority_(District)  Local_Authority_(Highway)  Road_Type  Speed_limit  Pedestrian_Crossing-Human_Control  Pedestrian_Crossing-Physical_Facilities  Light_Conditions  Weather_Conditions  Road_Surface_Conditions  Urban_or_Rural_Area  Did_Police_Officer_Attend_Scene_of_Accident  Year \n",
       "False      False              False               False                 False        False                       False                      False      False        False                              False                                    False             False               False                    False                False                                        False    463941\n",
       "                                                                                                                                                                                                                                                                                      True                     False                False                                        False       754\n",
       "                                                                                                                                                                                                                                                                                      False                    False                True                                         False         1\n",
       "                                                                                                                                                                                                                                                                                      True                     False                True                                         False         1\n",
       "dtype: int64"
      ]
     },
     "execution_count": 6,
     "metadata": {},
     "output_type": "execute_result"
    }
   ],
   "source": [
    "df.isnull().value_counts()"
   ]
  },
  {
   "cell_type": "code",
   "execution_count": 7,
   "metadata": {},
   "outputs": [
    {
     "data": {
      "text/plain": [
       "Index(['Longitude', 'Accident_Severity', 'Number_of_Vehicles',\n",
       "       'Number_of_Casualties', 'Day_of_Week', 'Local_Authority_(District)',\n",
       "       'Local_Authority_(Highway)', 'Road_Type', 'Speed_limit',\n",
       "       'Pedestrian_Crossing-Human_Control',\n",
       "       'Pedestrian_Crossing-Physical_Facilities', 'Light_Conditions',\n",
       "       'Weather_Conditions', 'Road_Surface_Conditions', 'Urban_or_Rural_Area',\n",
       "       'Did_Police_Officer_Attend_Scene_of_Accident', 'Year'],\n",
       "      dtype='object')"
      ]
     },
     "execution_count": 7,
     "metadata": {},
     "output_type": "execute_result"
    }
   ],
   "source": [
    "df.columns"
   ]
  },
  {
   "cell_type": "code",
   "execution_count": 8,
   "metadata": {},
   "outputs": [
    {
     "data": {
      "text/plain": [
       "Longitude                                        0\n",
       "Accident_Severity                                0\n",
       "Number_of_Vehicles                               0\n",
       "Number_of_Casualties                             0\n",
       "Day_of_Week                                      0\n",
       "Local_Authority_(District)                       0\n",
       "Local_Authority_(Highway)                        0\n",
       "Road_Type                                        0\n",
       "Speed_limit                                      0\n",
       "Pedestrian_Crossing-Human_Control                0\n",
       "Pedestrian_Crossing-Physical_Facilities          0\n",
       "Light_Conditions                                 0\n",
       "Weather_Conditions                               0\n",
       "Road_Surface_Conditions                        755\n",
       "Urban_or_Rural_Area                              0\n",
       "Did_Police_Officer_Attend_Scene_of_Accident      2\n",
       "Year                                             0\n",
       "dtype: int64"
      ]
     },
     "execution_count": 8,
     "metadata": {},
     "output_type": "execute_result"
    }
   ],
   "source": [
    "df.isnull().sum()\n"
   ]
  },
  {
   "cell_type": "code",
   "execution_count": 9,
   "metadata": {},
   "outputs": [
    {
     "data": {
      "text/plain": [
       "3    392610\n",
       "2     66784\n",
       "1      5303\n",
       "Name: Accident_Severity, dtype: int64"
      ]
     },
     "execution_count": 9,
     "metadata": {},
     "output_type": "execute_result"
    }
   ],
   "source": [
    "df[\"Accident_Severity\"].value_counts()"
   ]
  },
  {
   "cell_type": "code",
   "execution_count": 10,
   "metadata": {},
   "outputs": [
    {
     "name": "stdout",
     "output_type": "stream",
     "text": [
      "3    84.487311\n",
      "2    14.371515\n",
      "1     1.141174\n",
      "Name: Accident_Severity, dtype: float64\n"
     ]
    },
    {
     "data": {
      "image/png": "[encoded data removed]",
      "text/plain": [
       "<Figure size 432x288 with 1 Axes>"
      ]
     },
     "metadata": {
      "needs_background": "light"
     },
     "output_type": "display_data"
    }
   ],
   "source": [
    "sns.countplot(x =\"Accident_Severity\" , data = df)\n",
    "print(100 *df[\"Accident_Severity\"].value_counts()/ len (df))\n"
   ]
  },
  {
   "cell_type": "code",
   "execution_count": 11,
   "metadata": {},
   "outputs": [
    {
     "name": "stdout",
     "output_type": "stream",
     "text": [
      "Longitude ( float64 ): 384094\n",
      "Accident_Severity ( int64 ): 3\n",
      "Number_of_Vehicles ( int64 ): 18\n",
      "Number_of_Casualties ( int64 ): 37\n",
      "Day_of_Week ( int64 ): 7\n",
      "Local_Authority_(District) ( int64 ): 380\n",
      "Local_Authority_(Highway) ( object ): 207\n",
      "Road_Type ( object ): 6\n",
      "Speed_limit ( int64 ): 7\n",
      "Pedestrian_Crossing-Human_Control ( object ): 3\n",
      "Pedestrian_Crossing-Physical_Facilities ( object ): 6\n",
      "Light_Conditions ( object ): 5\n",
      "Weather_Conditions ( object ): 9\n",
      "Road_Surface_Conditions ( object ): 5\n",
      "Urban_or_Rural_Area ( int64 ): 2\n",
      "Did_Police_Officer_Attend_Scene_of_Accident ( object ): 2\n",
      "Year ( int64 ): 3\n",
      "   Accident_Severity      Ratio\n",
      "3             392610  84.487311\n",
      "2              66784  14.371515\n",
      "1               5303   1.141174\n",
      "\n",
      "\n"
     ]
    },
    {
     "data": {
      "image/png": "[encoded data removed]",
      "text/plain": [
       "<Figure size 432x288 with 1 Axes>"
      ]
     },
     "metadata": {
      "needs_background": "light"
     },
     "output_type": "display_data"
    },
    {
     "name": "stdout",
     "output_type": "stream",
     "text": [
      "   Day_of_Week      Ratio\n",
      "6        76054  16.366363\n",
      "5        70644  15.202164\n",
      "3        70316  15.131580\n",
      "4        69835  15.028072\n",
      "2        66725  14.358819\n",
      "7        60819  13.087883\n",
      "1        50304  10.825118\n",
      "\n",
      "\n"
     ]
    },
    {
     "data": {
      "image/png": "[encoded data removed]",
      "text/plain": [
       "<Figure size 432x288 with 1 Axes>"
      ]
     },
     "metadata": {
      "needs_background": "light"
     },
     "output_type": "display_data"
    },
    {
     "name": "stdout",
     "output_type": "stream",
     "text": [
      "                    Road_Type      Ratio\n",
      "Single carriageway     351268  75.590761\n",
      "Dual carriageway        65998  14.202373\n",
      "Roundabout              31852   6.854359\n",
      "One way street           9074   1.952670\n",
      "Slip road                4827   1.038741\n",
      "Unknown                  1678   0.361096\n",
      "\n",
      "\n"
     ]
    },
    {
     "data": {
      "image/png": "[encoded data removed]",
      "text/plain": [
       "<Figure size 432x288 with 1 Axes>"
      ]
     },
     "metadata": {
      "needs_background": "light"
     },
     "output_type": "display_data"
    },
    {
     "name": "stdout",
     "output_type": "stream",
     "text": [
      "    Speed_limit      Ratio\n",
      "30       304842  65.600165\n",
      "60        64465  13.872480\n",
      "40        37538   8.077952\n",
      "70        31484   6.775167\n",
      "50        17312   3.725438\n",
      "20         9055   1.948582\n",
      "10            1   0.000215\n",
      "\n",
      "\n"
     ]
    },
    {
     "data": {
      "image/png": "[encoded data removed]",
      "text/plain": [
       "<Figure size 432x288 with 1 Axes>"
      ]
     },
     "metadata": {
      "needs_background": "light"
     },
     "output_type": "display_data"
    },
    {
     "name": "stdout",
     "output_type": "stream",
     "text": [
      "                                    Pedestrian_Crossing-Human_Control  \\\n",
      "None within 50 metres                                          462133   \n",
      "Control by other authorised person                               1468   \n",
      "Control by school crossing patrol                                1096   \n",
      "\n",
      "                                        Ratio  \n",
      "None within 50 metres               99.448243  \n",
      "Control by other authorised person   0.315905  \n",
      "Control by school crossing patrol    0.235853  \n",
      "\n",
      "\n"
     ]
    },
    {
     "data": {
      "image/png": "[encoded data removed]",
      "text/plain": [
       "<Figure size 432x288 with 1 Axes>"
      ]
     },
     "metadata": {
      "needs_background": "light"
     },
     "output_type": "display_data"
    },
    {
     "name": "stdout",
     "output_type": "stream",
     "text": [
      "                                             Pedestrian_Crossing-Physical_Facilities  \\\n",
      "No physical crossing within 50 meters                                         377099   \n",
      "Pedestrian phase at traffic signal junction                                    35165   \n",
      "non-junction pedestrian crossing                                               26572   \n",
      "Zebra crossing                                                                 14012   \n",
      "Central refuge                                                                 10369   \n",
      "Footbridge or subway                                                            1480   \n",
      "\n",
      "                                                 Ratio  \n",
      "No physical crossing within 50 meters        81.149437  \n",
      "Pedestrian phase at traffic signal junction   7.567297  \n",
      "non-junction pedestrian crossing              5.718135  \n",
      "Zebra crossing                                3.015298  \n",
      "Central refuge                                2.231346  \n",
      "Footbridge or subway                          0.318487  \n",
      "\n",
      "\n"
     ]
    },
    {
     "data": {
      "image/png": "[encoded data removed]",
      "text/plain": [
       "<Figure size 432x288 with 1 Axes>"
      ]
     },
     "metadata": {
      "needs_background": "light"
     },
     "output_type": "display_data"
    },
    {
     "name": "stdout",
     "output_type": "stream",
     "text": [
      "                                           Light_Conditions      Ratio\n",
      "Daylight: Street light present                       341124  73.407833\n",
      "Darkness: Street lights present and lit               91158  19.616653\n",
      "Darkeness: No street lighting                         22999   4.949246\n",
      "Darkness: Street lighting unknown                      6853   1.474724\n",
      "Darkness: Street lights present but unlit              2563   0.551542\n",
      "\n",
      "\n"
     ]
    },
    {
     "data": {
      "image/png": "[encoded data removed]",
      "text/plain": [
       "<Figure size 432x288 with 1 Axes>"
      ]
     },
     "metadata": {
      "needs_background": "light"
     },
     "output_type": "display_data"
    },
    {
     "name": "stdout",
     "output_type": "stream",
     "text": [
      "                            Weather_Conditions      Ratio\n",
      "Fine without high winds                 373167  80.303294\n",
      "Raining without high winds               57060  12.278969\n",
      "Other                                     8272   1.780085\n",
      "Unknown                                   8215   1.767819\n",
      "Raining with high winds                   7120   1.532181\n",
      "Fine with high winds                      5011   1.078337\n",
      "Snowing without high winds                2708   0.582745\n",
      "Fog or mist                               2411   0.518833\n",
      "Snowing with high winds                    733   0.157737\n",
      "\n",
      "\n"
     ]
    },
    {
     "data": {
      "image/png": "[encoded data removed]",
      "text/plain": [
       "<Figure size 432x288 with 1 Axes>"
      ]
     },
     "metadata": {
      "needs_background": "light"
     },
     "output_type": "display_data"
    },
    {
     "name": "stdout",
     "output_type": "stream",
     "text": [
      "                           Road_Surface_Conditions      Ratio\n",
      "Dry                                         319370  68.726504\n",
      "Wet/Damp                                    132745  28.565926\n",
      "Frost/Ice                                     8140   1.751679\n",
      "Snow                                          2824   0.607708\n",
      "Flood (Over 3cm of water)                      863   0.185712\n",
      "\n",
      "\n"
     ]
    },
    {
     "data": {
      "image/png": "[encoded data removed]",
      "text/plain": [
       "<Figure size 432x288 with 1 Axes>"
      ]
     },
     "metadata": {
      "needs_background": "light"
     },
     "output_type": "display_data"
    },
    {
     "name": "stdout",
     "output_type": "stream",
     "text": [
      "   Urban_or_Rural_Area      Ratio\n",
      "1               307896  66.257368\n",
      "2               156801  33.742632\n",
      "\n",
      "\n"
     ]
    },
    {
     "data": {
      "image/png": "[encoded data removed]",
      "text/plain": [
       "<Figure size 432x288 with 1 Axes>"
      ]
     },
     "metadata": {
      "needs_background": "light"
     },
     "output_type": "display_data"
    },
    {
     "name": "stdout",
     "output_type": "stream",
     "text": [
      "     Did_Police_Officer_Attend_Scene_of_Accident     Ratio\n",
      "Yes                                       380850  81.95663\n",
      "No                                         83845  18.04294\n",
      "\n",
      "\n"
     ]
    },
    {
     "data": {
      "image/png": "[encoded data removed]",
      "text/plain": [
       "<Figure size 432x288 with 1 Axes>"
      ]
     },
     "metadata": {
      "needs_background": "light"
     },
     "output_type": "display_data"
    },
    {
     "name": "stdout",
     "output_type": "stream",
     "text": [
      "        Year      Ratio\n",
      "2012  179715  38.673587\n",
      "2014  146322  31.487615\n",
      "2013  138660  29.838798\n",
      "\n",
      "\n"
     ]
    },
    {
     "data": {
      "image/png": "[encoded data removed]",
      "text/plain": [
       "<Figure size 432x288 with 1 Axes>"
      ]
     },
     "metadata": {
      "needs_background": "light"
     },
     "output_type": "display_data"
    }
   ],
   "source": [
    "for  i in df.columns:\n",
    "    print(i, \"(\",str(df[i].dtypes),\"):\",df[i].nunique())\n",
    "\n",
    "    \n",
    "for col in [col for col in df.columns if len(df[col].unique()) < 10]: #\n",
    "    print(pd.DataFrame({col: df[col].value_counts(),\n",
    "                        \"Ratio\": 100 * df[col].value_counts()/ len (df)}), end = \"\\n\\n\\n\")\n",
    "    chart = sns.countplot(x = col, data = df)\n",
    "    chart.set_xticklabels(chart.get_xticklabels(),rotation = 90)\n",
    "    plt.show()"
   ]
  },
  {
   "cell_type": "code",
   "execution_count": 12,
   "metadata": {},
   "outputs": [
    {
     "data": {
      "image/png": "[encoded data removed]",
      "text/plain": [
       "<Figure size 1440x288 with 3 Axes>"
      ]
     },
     "metadata": {
      "needs_background": "light"
     },
     "output_type": "display_data"
    },
    {
     "data": {
      "image/png": "[encoded data removed]",
      "text/plain": [
       "<Figure size 1440x288 with 3 Axes>"
      ]
     },
     "metadata": {
      "needs_background": "light"
     },
     "output_type": "display_data"
    },
    {
     "data": {
      "image/png": "[encoded data removed]",
      "text/plain": [
       "<Figure size 1440x288 with 3 Axes>"
      ]
     },
     "metadata": {
      "needs_background": "light"
     },
     "output_type": "display_data"
    },
    {
     "data": {
      "image/png": "[encoded data removed]",
      "text/plain": [
       "<Figure size 1440x288 with 3 Axes>"
      ]
     },
     "metadata": {
      "needs_background": "light"
     },
     "output_type": "display_data"
    }
   ],
   "source": [
    "\n",
    "    \n",
    "num_cols = [col for col in df.columns if df[col].dtypes != object \n",
    "                and len(df[col].unique()) >= 10]\n",
    "    \n",
    "\n",
    "        \n",
    "    \n",
    "for i in num_cols:\n",
    "    fig, axes = plt.subplots(1, 3, figsize = (20,4))\n",
    "    df.hist(str(i), bins = 10, ax=axes[0])\n",
    "    df.boxplot(str(i),  ax=axes[1], vert=False);\n",
    "    try: \n",
    "        sns.kdeplot(np.array(df[str(i)]))\n",
    "    except: ValueError\n",
    "        \n",
    "    axes[1].set_yticklabels([])\n",
    "    axes[1].set_yticks([])\n",
    "    axes[0].set_title(i + \" | Histogram\")\n",
    "    axes[1].set_title(i + \" | Boxplot\")\n",
    "    axes[2].set_title(i + \" | Density\")\n",
    "    plt.show()\n",
    "        \n",
    "        \n"
   ]
  },
  {
   "cell_type": "code",
   "execution_count": 13,
   "metadata": {},
   "outputs": [
    {
     "data": {
      "text/plain": [
       "<Axes: xlabel='Number_of_Vehicles', ylabel='Density'>"
      ]
     },
     "execution_count": 13,
     "metadata": {},
     "output_type": "execute_result"
    },
    {
     "data": {
      "image/png": "[encoded data removed]",
      "text/plain": [
       "<Figure size 432x288 with 1 Axes>"
      ]
     },
     "metadata": {
      "needs_background": "light"
     },
     "output_type": "display_data"
    }
   ],
   "source": [
    "sns.kdeplot(df[\"Number_of_Vehicles\"])"
   ]
  },
  {
   "cell_type": "code",
   "execution_count": null,
   "metadata": {},
   "outputs": [],
   "source": []
  },
  {
   "cell_type": "code",
   "execution_count": 14,
   "metadata": {},
   "outputs": [
    {
     "data": {
      "text/html": [
       "<div>\n",
       "<style scoped>\n",
       "    .dataframe tbody tr th:only-of-type {\n",
       "        vertical-align: middle;\n",
       "    }\n",
       "\n",
       "    .dataframe tbody tr th {\n",
       "        vertical-align: top;\n",
       "    }\n",
       "\n",
       "    .dataframe thead th {\n",
       "        text-align: right;\n",
       "    }\n",
       "</style>\n",
       "<table border=\"1\" class=\"dataframe\">\n",
       "  <thead>\n",
       "    <tr style=\"text-align: right;\">\n",
       "      <th></th>\n",
       "      <th>Longitude</th>\n",
       "      <th>Accident_Severity</th>\n",
       "      <th>Number_of_Vehicles</th>\n",
       "      <th>Number_of_Casualties</th>\n",
       "      <th>Day_of_Week</th>\n",
       "      <th>Local_Authority_(District)</th>\n",
       "      <th>Speed_limit</th>\n",
       "      <th>Urban_or_Rural_Area</th>\n",
       "      <th>Year</th>\n",
       "    </tr>\n",
       "  </thead>\n",
       "  <tbody>\n",
       "    <tr>\n",
       "      <th>Longitude</th>\n",
       "      <td>1.000000</td>\n",
       "      <td>0.033144</td>\n",
       "      <td>0.015349</td>\n",
       "      <td>-0.040972</td>\n",
       "      <td>-0.002335</td>\n",
       "      <td>-0.374428</td>\n",
       "      <td>-0.069084</td>\n",
       "      <td>-0.106236</td>\n",
       "      <td>0.028124</td>\n",
       "    </tr>\n",
       "    <tr>\n",
       "      <th>Accident_Severity</th>\n",
       "      <td>0.033144</td>\n",
       "      <td>1.000000</td>\n",
       "      <td>0.078750</td>\n",
       "      <td>-0.060358</td>\n",
       "      <td>0.003478</td>\n",
       "      <td>-0.043415</td>\n",
       "      <td>-0.073219</td>\n",
       "      <td>-0.079522</td>\n",
       "      <td>0.006445</td>\n",
       "    </tr>\n",
       "    <tr>\n",
       "      <th>Number_of_Vehicles</th>\n",
       "      <td>0.015349</td>\n",
       "      <td>0.078750</td>\n",
       "      <td>1.000000</td>\n",
       "      <td>0.252533</td>\n",
       "      <td>0.003376</td>\n",
       "      <td>-0.001769</td>\n",
       "      <td>0.089665</td>\n",
       "      <td>0.044852</td>\n",
       "      <td>0.005481</td>\n",
       "    </tr>\n",
       "    <tr>\n",
       "      <th>Number_of_Casualties</th>\n",
       "      <td>-0.040972</td>\n",
       "      <td>-0.060358</td>\n",
       "      <td>0.252533</td>\n",
       "      <td>1.000000</td>\n",
       "      <td>0.000407</td>\n",
       "      <td>0.019785</td>\n",
       "      <td>0.141020</td>\n",
       "      <td>0.114752</td>\n",
       "      <td>-0.009160</td>\n",
       "    </tr>\n",
       "    <tr>\n",
       "      <th>Day_of_Week</th>\n",
       "      <td>-0.002335</td>\n",
       "      <td>0.003478</td>\n",
       "      <td>0.003376</td>\n",
       "      <td>0.000407</td>\n",
       "      <td>1.000000</td>\n",
       "      <td>-0.002014</td>\n",
       "      <td>-0.015876</td>\n",
       "      <td>-0.018107</td>\n",
       "      <td>-0.002890</td>\n",
       "    </tr>\n",
       "    <tr>\n",
       "      <th>Local_Authority_(District)</th>\n",
       "      <td>-0.374428</td>\n",
       "      <td>-0.043415</td>\n",
       "      <td>-0.001769</td>\n",
       "      <td>0.019785</td>\n",
       "      <td>-0.002014</td>\n",
       "      <td>1.000000</td>\n",
       "      <td>0.212592</td>\n",
       "      <td>0.263910</td>\n",
       "      <td>0.071632</td>\n",
       "    </tr>\n",
       "    <tr>\n",
       "      <th>Speed_limit</th>\n",
       "      <td>-0.069084</td>\n",
       "      <td>-0.073219</td>\n",
       "      <td>0.089665</td>\n",
       "      <td>0.141020</td>\n",
       "      <td>-0.015876</td>\n",
       "      <td>0.212592</td>\n",
       "      <td>1.000000</td>\n",
       "      <td>0.680879</td>\n",
       "      <td>0.008236</td>\n",
       "    </tr>\n",
       "    <tr>\n",
       "      <th>Urban_or_Rural_Area</th>\n",
       "      <td>-0.106236</td>\n",
       "      <td>-0.079522</td>\n",
       "      <td>0.044852</td>\n",
       "      <td>0.114752</td>\n",
       "      <td>-0.018107</td>\n",
       "      <td>0.263910</td>\n",
       "      <td>0.680879</td>\n",
       "      <td>1.000000</td>\n",
       "      <td>0.017433</td>\n",
       "    </tr>\n",
       "    <tr>\n",
       "      <th>Year</th>\n",
       "      <td>0.028124</td>\n",
       "      <td>0.006445</td>\n",
       "      <td>0.005481</td>\n",
       "      <td>-0.009160</td>\n",
       "      <td>-0.002890</td>\n",
       "      <td>0.071632</td>\n",
       "      <td>0.008236</td>\n",
       "      <td>0.017433</td>\n",
       "      <td>1.000000</td>\n",
       "    </tr>\n",
       "  </tbody>\n",
       "</table>\n",
       "</div>"
      ],
      "text/plain": [
       "                            Longitude  Accident_Severity  Number_of_Vehicles  \\\n",
       "Longitude                    1.000000           0.033144            0.015349   \n",
       "Accident_Severity            0.033144           1.000000            0.078750   \n",
       "Number_of_Vehicles           0.015349           0.078750            1.000000   \n",
       "Number_of_Casualties        -0.040972          -0.060358            0.252533   \n",
       "Day_of_Week                 -0.002335           0.003478            0.003376   \n",
       "Local_Authority_(District)  -0.374428          -0.043415           -0.001769   \n",
       "Speed_limit                 -0.069084          -0.073219            0.089665   \n",
       "Urban_or_Rural_Area         -0.106236          -0.079522            0.044852   \n",
       "Year                         0.028124           0.006445            0.005481   \n",
       "\n",
       "                            Number_of_Casualties  Day_of_Week  \\\n",
       "Longitude                              -0.040972    -0.002335   \n",
       "Accident_Severity                      -0.060358     0.003478   \n",
       "Number_of_Vehicles                      0.252533     0.003376   \n",
       "Number_of_Casualties                    1.000000     0.000407   \n",
       "Day_of_Week                             0.000407     1.000000   \n",
       "Local_Authority_(District)              0.019785    -0.002014   \n",
       "Speed_limit                             0.141020    -0.015876   \n",
       "Urban_or_Rural_Area                     0.114752    -0.018107   \n",
       "Year                                   -0.009160    -0.002890   \n",
       "\n",
       "                            Local_Authority_(District)  Speed_limit  \\\n",
       "Longitude                                    -0.374428    -0.069084   \n",
       "Accident_Severity                            -0.043415    -0.073219   \n",
       "Number_of_Vehicles                           -0.001769     0.089665   \n",
       "Number_of_Casualties                          0.019785     0.141020   \n",
       "Day_of_Week                                  -0.002014    -0.015876   \n",
       "Local_Authority_(District)                    1.000000     0.212592   \n",
       "Speed_limit                                   0.212592     1.000000   \n",
       "Urban_or_Rural_Area                           0.263910     0.680879   \n",
       "Year                                          0.071632     0.008236   \n",
       "\n",
       "                            Urban_or_Rural_Area      Year  \n",
       "Longitude                             -0.106236  0.028124  \n",
       "Accident_Severity                     -0.079522  0.006445  \n",
       "Number_of_Vehicles                     0.044852  0.005481  \n",
       "Number_of_Casualties                   0.114752 -0.009160  \n",
       "Day_of_Week                           -0.018107 -0.002890  \n",
       "Local_Authority_(District)             0.263910  0.071632  \n",
       "Speed_limit                            0.680879  0.008236  \n",
       "Urban_or_Rural_Area                    1.000000  0.017433  \n",
       "Year                                   0.017433  1.000000  "
      ]
     },
     "execution_count": 14,
     "metadata": {},
     "output_type": "execute_result"
    }
   ],
   "source": [
    "df.corr()"
   ]
  },
  {
   "cell_type": "code",
   "execution_count": 15,
   "metadata": {},
   "outputs": [],
   "source": [
    "df=df.dropna()"
   ]
  },
  {
   "cell_type": "code",
   "execution_count": 16,
   "metadata": {},
   "outputs": [
    {
     "data": {
      "image/png": "[encoded data removed]",
      "text/plain": [
       "<Figure size 432x288 with 2 Axes>"
      ]
     },
     "metadata": {
      "needs_background": "light"
     },
     "output_type": "display_data"
    }
   ],
   "source": [
    "sns.heatmap(df.corr(), annot=True, linewidths=1, xticklabels=True, yticklabels=True);"
   ]
  },
  {
   "cell_type": "code",
   "execution_count": 17,
   "metadata": {},
   "outputs": [
    {
     "data": {
      "image/png": "[encoded data removed]",
      "text/plain": [
       "<Figure size 936x720 with 9 Axes>"
      ]
     },
     "metadata": {
      "needs_background": "light"
     },
     "output_type": "display_data"
    }
   ],
   "source": [
    "df.hist(figsize = (13,10))\n",
    "plt.show()"
   ]
  },
  {
   "cell_type": "code",
   "execution_count": 71,
   "metadata": {},
   "outputs": [
    {
     "data": {
      "text/plain": [
       "<Axes: xlabel='Accident_Severity', ylabel='Number_of_Vehicles'>"
      ]
     },
     "execution_count": 71,
     "metadata": {},
     "output_type": "execute_result"
    },
    {
     "data": {
      "image/png": "[encoded data removed]",
      "text/plain": [
       "<Figure size 432x288 with 1 Axes>"
      ]
     },
     "metadata": {
      "needs_background": "light"
     },
     "output_type": "display_data"
    }
   ],
   "source": [
    "sns.barplot(x= 'Accident_Severity', y='Number_of_Vehicles', data=df)"
   ]
  },
  {
   "cell_type": "code",
   "execution_count": 20,
   "metadata": {},
   "outputs": [
    {
     "data": {
      "text/plain": [
       "<Axes: xlabel='Accident_Severity', ylabel='Number_of_Vehicles'>"
      ]
     },
     "execution_count": 20,
     "metadata": {},
     "output_type": "execute_result"
    },
    {
     "data": {
      "image/png": "[encoded data removed]",
      "text/plain": [
       "<Figure size 432x288 with 1 Axes>"
      ]
     },
     "metadata": {
      "needs_background": "light"
     },
     "output_type": "display_data"
    }
   ],
   "source": [
    "sns.pointplot(x= 'Accident_Severity', y='Number_of_Vehicles', data=df)"
   ]
  },
  {
   "cell_type": "code",
   "execution_count": 26,
   "metadata": {},
   "outputs": [
    {
     "data": {
      "text/plain": [
       "<Axes: xlabel='Accident_Severity', ylabel='Speed_limit'>"
      ]
     },
     "execution_count": 26,
     "metadata": {},
     "output_type": "execute_result"
    },
    {
     "data": {
      "image/png": "[encoded data removed]",
      "text/plain": [
       "<Figure size 432x288 with 1 Axes>"
      ]
     },
     "metadata": {
      "needs_background": "light"
     },
     "output_type": "display_data"
    }
   ],
   "source": [
    "sns.pointplot(x= 'Accident_Severity', y='Speed_limit', data=df)"
   ]
  },
  {
   "cell_type": "code",
   "execution_count": 27,
   "metadata": {},
   "outputs": [
    {
     "data": {
      "text/plain": [
       "<Axes: xlabel='Accident_Severity', ylabel='Speed_limit'>"
      ]
     },
     "execution_count": 27,
     "metadata": {},
     "output_type": "execute_result"
    },
    {
     "data": {
      "image/png": "[encoded data removed]",
      "text/plain": [
       "<Figure size 432x288 with 1 Axes>"
      ]
     },
     "metadata": {
      "needs_background": "light"
     },
     "output_type": "display_data"
    }
   ],
   "source": [
    "sns.barplot(x= 'Accident_Severity', y='Speed_limit', data=df)"
   ]
  },
  {
   "cell_type": "code",
   "execution_count": 28,
   "metadata": {},
   "outputs": [],
   "source": [
    "df = df.drop(columns=[\"Local_Authority_(Highway)\"])"
   ]
  },
  {
   "cell_type": "code",
   "execution_count": 29,
   "metadata": {},
   "outputs": [
    {
     "name": "stdout",
     "output_type": "stream",
     "text": [
      "<class 'pandas.core.frame.DataFrame'>\n",
      "Int64Index: 463941 entries, 0 to 464696\n",
      "Data columns (total 16 columns):\n",
      " #   Column                                       Non-Null Count   Dtype  \n",
      "---  ------                                       --------------   -----  \n",
      " 0   Longitude                                    463941 non-null  float64\n",
      " 1   Accident_Severity                            463941 non-null  int64  \n",
      " 2   Number_of_Vehicles                           463941 non-null  int64  \n",
      " 3   Number_of_Casualties                         463941 non-null  int64  \n",
      " 4   Day_of_Week                                  463941 non-null  int64  \n",
      " 5   Local_Authority_(District)                   463941 non-null  int64  \n",
      " 6   Road_Type                                    463941 non-null  object \n",
      " 7   Speed_limit                                  463941 non-null  int64  \n",
      " 8   Pedestrian_Crossing-Human_Control            463941 non-null  object \n",
      " 9   Pedestrian_Crossing-Physical_Facilities      463941 non-null  object \n",
      " 10  Light_Conditions                             463941 non-null  object \n",
      " 11  Weather_Conditions                           463941 non-null  object \n",
      " 12  Road_Surface_Conditions                      463941 non-null  object \n",
      " 13  Urban_or_Rural_Area                          463941 non-null  int64  \n",
      " 14  Did_Police_Officer_Attend_Scene_of_Accident  463941 non-null  object \n",
      " 15  Year                                         463941 non-null  int64  \n",
      "dtypes: float64(1), int64(8), object(7)\n",
      "memory usage: 76.3+ MB\n"
     ]
    }
   ],
   "source": [
    "df.info()"
   ]
  },
  {
   "cell_type": "code",
   "execution_count": 30,
   "metadata": {},
   "outputs": [
    {
     "data": {
      "text/html": [
       "<div>\n",
       "<style scoped>\n",
       "    .dataframe tbody tr th:only-of-type {\n",
       "        vertical-align: middle;\n",
       "    }\n",
       "\n",
       "    .dataframe tbody tr th {\n",
       "        vertical-align: top;\n",
       "    }\n",
       "\n",
       "    .dataframe thead th {\n",
       "        text-align: right;\n",
       "    }\n",
       "</style>\n",
       "<table border=\"1\" class=\"dataframe\">\n",
       "  <thead>\n",
       "    <tr style=\"text-align: right;\">\n",
       "      <th></th>\n",
       "      <th>Longitude</th>\n",
       "      <th>Accident_Severity</th>\n",
       "      <th>Number_of_Vehicles</th>\n",
       "      <th>Number_of_Casualties</th>\n",
       "      <th>Day_of_Week</th>\n",
       "      <th>Local_Authority_(District)</th>\n",
       "      <th>Road_Type</th>\n",
       "      <th>Speed_limit</th>\n",
       "      <th>Pedestrian_Crossing-Human_Control</th>\n",
       "      <th>Pedestrian_Crossing-Physical_Facilities</th>\n",
       "      <th>Light_Conditions</th>\n",
       "      <th>Weather_Conditions</th>\n",
       "      <th>Road_Surface_Conditions</th>\n",
       "      <th>Urban_or_Rural_Area</th>\n",
       "      <th>Did_Police_Officer_Attend_Scene_of_Accident</th>\n",
       "      <th>Year</th>\n",
       "    </tr>\n",
       "  </thead>\n",
       "  <tbody>\n",
       "    <tr>\n",
       "      <th>0</th>\n",
       "      <td>-0.169101</td>\n",
       "      <td>3</td>\n",
       "      <td>2</td>\n",
       "      <td>1</td>\n",
       "      <td>5</td>\n",
       "      <td>12</td>\n",
       "      <td>Single carriageway</td>\n",
       "      <td>30</td>\n",
       "      <td>None within 50 metres</td>\n",
       "      <td>Pedestrian phase at traffic signal junction</td>\n",
       "      <td>Darkness: Street lights present and lit</td>\n",
       "      <td>Fine without high winds</td>\n",
       "      <td>Dry</td>\n",
       "      <td>1</td>\n",
       "      <td>Yes</td>\n",
       "      <td>2012</td>\n",
       "    </tr>\n",
       "    <tr>\n",
       "      <th>1</th>\n",
       "      <td>-0.200838</td>\n",
       "      <td>3</td>\n",
       "      <td>2</td>\n",
       "      <td>1</td>\n",
       "      <td>4</td>\n",
       "      <td>1</td>\n",
       "      <td>Single carriageway</td>\n",
       "      <td>30</td>\n",
       "      <td>None within 50 metres</td>\n",
       "      <td>No physical crossing within 50 meters</td>\n",
       "      <td>Darkness: Street lights present and lit</td>\n",
       "      <td>Fine without high winds</td>\n",
       "      <td>Dry</td>\n",
       "      <td>1</td>\n",
       "      <td>Yes</td>\n",
       "      <td>2012</td>\n",
       "    </tr>\n",
       "    <tr>\n",
       "      <th>2</th>\n",
       "      <td>-0.188636</td>\n",
       "      <td>3</td>\n",
       "      <td>2</td>\n",
       "      <td>1</td>\n",
       "      <td>3</td>\n",
       "      <td>12</td>\n",
       "      <td>One way street</td>\n",
       "      <td>30</td>\n",
       "      <td>None within 50 metres</td>\n",
       "      <td>non-junction pedestrian crossing</td>\n",
       "      <td>Daylight: Street light present</td>\n",
       "      <td>Fine without high winds</td>\n",
       "      <td>Dry</td>\n",
       "      <td>1</td>\n",
       "      <td>Yes</td>\n",
       "      <td>2012</td>\n",
       "    </tr>\n",
       "    <tr>\n",
       "      <th>3</th>\n",
       "      <td>-0.200259</td>\n",
       "      <td>3</td>\n",
       "      <td>1</td>\n",
       "      <td>1</td>\n",
       "      <td>4</td>\n",
       "      <td>12</td>\n",
       "      <td>Single carriageway</td>\n",
       "      <td>30</td>\n",
       "      <td>None within 50 metres</td>\n",
       "      <td>No physical crossing within 50 meters</td>\n",
       "      <td>Daylight: Street light present</td>\n",
       "      <td>Fine without high winds</td>\n",
       "      <td>Dry</td>\n",
       "      <td>1</td>\n",
       "      <td>Yes</td>\n",
       "      <td>2012</td>\n",
       "    </tr>\n",
       "    <tr>\n",
       "      <th>4</th>\n",
       "      <td>-0.183773</td>\n",
       "      <td>3</td>\n",
       "      <td>1</td>\n",
       "      <td>1</td>\n",
       "      <td>3</td>\n",
       "      <td>12</td>\n",
       "      <td>Single carriageway</td>\n",
       "      <td>30</td>\n",
       "      <td>None within 50 metres</td>\n",
       "      <td>No physical crossing within 50 meters</td>\n",
       "      <td>Darkness: Street lights present and lit</td>\n",
       "      <td>Fine without high winds</td>\n",
       "      <td>Dry</td>\n",
       "      <td>1</td>\n",
       "      <td>Yes</td>\n",
       "      <td>2012</td>\n",
       "    </tr>\n",
       "  </tbody>\n",
       "</table>\n",
       "</div>"
      ],
      "text/plain": [
       "   Longitude  Accident_Severity  Number_of_Vehicles  Number_of_Casualties  \\\n",
       "0  -0.169101                  3                   2                     1   \n",
       "1  -0.200838                  3                   2                     1   \n",
       "2  -0.188636                  3                   2                     1   \n",
       "3  -0.200259                  3                   1                     1   \n",
       "4  -0.183773                  3                   1                     1   \n",
       "\n",
       "   Day_of_Week  Local_Authority_(District)           Road_Type  Speed_limit  \\\n",
       "0            5                          12  Single carriageway           30   \n",
       "1            4                           1  Single carriageway           30   \n",
       "2            3                          12      One way street           30   \n",
       "3            4                          12  Single carriageway           30   \n",
       "4            3                          12  Single carriageway           30   \n",
       "\n",
       "  Pedestrian_Crossing-Human_Control  \\\n",
       "0             None within 50 metres   \n",
       "1             None within 50 metres   \n",
       "2             None within 50 metres   \n",
       "3             None within 50 metres   \n",
       "4             None within 50 metres   \n",
       "\n",
       "       Pedestrian_Crossing-Physical_Facilities  \\\n",
       "0  Pedestrian phase at traffic signal junction   \n",
       "1        No physical crossing within 50 meters   \n",
       "2             non-junction pedestrian crossing   \n",
       "3        No physical crossing within 50 meters   \n",
       "4        No physical crossing within 50 meters   \n",
       "\n",
       "                          Light_Conditions       Weather_Conditions  \\\n",
       "0  Darkness: Street lights present and lit  Fine without high winds   \n",
       "1  Darkness: Street lights present and lit  Fine without high winds   \n",
       "2           Daylight: Street light present  Fine without high winds   \n",
       "3           Daylight: Street light present  Fine without high winds   \n",
       "4  Darkness: Street lights present and lit  Fine without high winds   \n",
       "\n",
       "  Road_Surface_Conditions  Urban_or_Rural_Area  \\\n",
       "0                     Dry                    1   \n",
       "1                     Dry                    1   \n",
       "2                     Dry                    1   \n",
       "3                     Dry                    1   \n",
       "4                     Dry                    1   \n",
       "\n",
       "  Did_Police_Officer_Attend_Scene_of_Accident  Year  \n",
       "0                                         Yes  2012  \n",
       "1                                         Yes  2012  \n",
       "2                                         Yes  2012  \n",
       "3                                         Yes  2012  \n",
       "4                                         Yes  2012  "
      ]
     },
     "execution_count": 30,
     "metadata": {},
     "output_type": "execute_result"
    }
   ],
   "source": [
    "df.head()"
   ]
  },
  {
   "cell_type": "code",
   "execution_count": 31,
   "metadata": {},
   "outputs": [],
   "source": [
    "df.loc[df.Did_Police_Officer_Attend_Scene_of_Accident == \"Yes\", \"Did_Police_Officer_Attend_Scene_of_Accident\"] = 1\n",
    "df.loc[df.Did_Police_Officer_Attend_Scene_of_Accident == \"No\", \"Did_Police_Officer_Attend_Scene_of_Accident\"] = 0"
   ]
  },
  {
   "cell_type": "code",
   "execution_count": 32,
   "metadata": {},
   "outputs": [
    {
     "data": {
      "text/html": [
       "<div>\n",
       "<style scoped>\n",
       "    .dataframe tbody tr th:only-of-type {\n",
       "        vertical-align: middle;\n",
       "    }\n",
       "\n",
       "    .dataframe tbody tr th {\n",
       "        vertical-align: top;\n",
       "    }\n",
       "\n",
       "    .dataframe thead th {\n",
       "        text-align: right;\n",
       "    }\n",
       "</style>\n",
       "<table border=\"1\" class=\"dataframe\">\n",
       "  <thead>\n",
       "    <tr style=\"text-align: right;\">\n",
       "      <th></th>\n",
       "      <th>Longitude</th>\n",
       "      <th>Accident_Severity</th>\n",
       "      <th>Number_of_Vehicles</th>\n",
       "      <th>Number_of_Casualties</th>\n",
       "      <th>Day_of_Week</th>\n",
       "      <th>Local_Authority_(District)</th>\n",
       "      <th>Road_Type</th>\n",
       "      <th>Speed_limit</th>\n",
       "      <th>Pedestrian_Crossing-Human_Control</th>\n",
       "      <th>Pedestrian_Crossing-Physical_Facilities</th>\n",
       "      <th>Light_Conditions</th>\n",
       "      <th>Weather_Conditions</th>\n",
       "      <th>Road_Surface_Conditions</th>\n",
       "      <th>Urban_or_Rural_Area</th>\n",
       "      <th>Did_Police_Officer_Attend_Scene_of_Accident</th>\n",
       "      <th>Year</th>\n",
       "    </tr>\n",
       "  </thead>\n",
       "  <tbody>\n",
       "    <tr>\n",
       "      <th>0</th>\n",
       "      <td>-0.169101</td>\n",
       "      <td>3</td>\n",
       "      <td>2</td>\n",
       "      <td>1</td>\n",
       "      <td>5</td>\n",
       "      <td>12</td>\n",
       "      <td>Single carriageway</td>\n",
       "      <td>30</td>\n",
       "      <td>None within 50 metres</td>\n",
       "      <td>Pedestrian phase at traffic signal junction</td>\n",
       "      <td>Darkness: Street lights present and lit</td>\n",
       "      <td>Fine without high winds</td>\n",
       "      <td>Dry</td>\n",
       "      <td>1</td>\n",
       "      <td>1</td>\n",
       "      <td>2012</td>\n",
       "    </tr>\n",
       "    <tr>\n",
       "      <th>1</th>\n",
       "      <td>-0.200838</td>\n",
       "      <td>3</td>\n",
       "      <td>2</td>\n",
       "      <td>1</td>\n",
       "      <td>4</td>\n",
       "      <td>1</td>\n",
       "      <td>Single carriageway</td>\n",
       "      <td>30</td>\n",
       "      <td>None within 50 metres</td>\n",
       "      <td>No physical crossing within 50 meters</td>\n",
       "      <td>Darkness: Street lights present and lit</td>\n",
       "      <td>Fine without high winds</td>\n",
       "      <td>Dry</td>\n",
       "      <td>1</td>\n",
       "      <td>1</td>\n",
       "      <td>2012</td>\n",
       "    </tr>\n",
       "    <tr>\n",
       "      <th>2</th>\n",
       "      <td>-0.188636</td>\n",
       "      <td>3</td>\n",
       "      <td>2</td>\n",
       "      <td>1</td>\n",
       "      <td>3</td>\n",
       "      <td>12</td>\n",
       "      <td>One way street</td>\n",
       "      <td>30</td>\n",
       "      <td>None within 50 metres</td>\n",
       "      <td>non-junction pedestrian crossing</td>\n",
       "      <td>Daylight: Street light present</td>\n",
       "      <td>Fine without high winds</td>\n",
       "      <td>Dry</td>\n",
       "      <td>1</td>\n",
       "      <td>1</td>\n",
       "      <td>2012</td>\n",
       "    </tr>\n",
       "    <tr>\n",
       "      <th>3</th>\n",
       "      <td>-0.200259</td>\n",
       "      <td>3</td>\n",
       "      <td>1</td>\n",
       "      <td>1</td>\n",
       "      <td>4</td>\n",
       "      <td>12</td>\n",
       "      <td>Single carriageway</td>\n",
       "      <td>30</td>\n",
       "      <td>None within 50 metres</td>\n",
       "      <td>No physical crossing within 50 meters</td>\n",
       "      <td>Daylight: Street light present</td>\n",
       "      <td>Fine without high winds</td>\n",
       "      <td>Dry</td>\n",
       "      <td>1</td>\n",
       "      <td>1</td>\n",
       "      <td>2012</td>\n",
       "    </tr>\n",
       "    <tr>\n",
       "      <th>4</th>\n",
       "      <td>-0.183773</td>\n",
       "      <td>3</td>\n",
       "      <td>1</td>\n",
       "      <td>1</td>\n",
       "      <td>3</td>\n",
       "      <td>12</td>\n",
       "      <td>Single carriageway</td>\n",
       "      <td>30</td>\n",
       "      <td>None within 50 metres</td>\n",
       "      <td>No physical crossing within 50 meters</td>\n",
       "      <td>Darkness: Street lights present and lit</td>\n",
       "      <td>Fine without high winds</td>\n",
       "      <td>Dry</td>\n",
       "      <td>1</td>\n",
       "      <td>1</td>\n",
       "      <td>2012</td>\n",
       "    </tr>\n",
       "  </tbody>\n",
       "</table>\n",
       "</div>"
      ],
      "text/plain": [
       "   Longitude  Accident_Severity  Number_of_Vehicles  Number_of_Casualties  \\\n",
       "0  -0.169101                  3                   2                     1   \n",
       "1  -0.200838                  3                   2                     1   \n",
       "2  -0.188636                  3                   2                     1   \n",
       "3  -0.200259                  3                   1                     1   \n",
       "4  -0.183773                  3                   1                     1   \n",
       "\n",
       "   Day_of_Week  Local_Authority_(District)           Road_Type  Speed_limit  \\\n",
       "0            5                          12  Single carriageway           30   \n",
       "1            4                           1  Single carriageway           30   \n",
       "2            3                          12      One way street           30   \n",
       "3            4                          12  Single carriageway           30   \n",
       "4            3                          12  Single carriageway           30   \n",
       "\n",
       "  Pedestrian_Crossing-Human_Control  \\\n",
       "0             None within 50 metres   \n",
       "1             None within 50 metres   \n",
       "2             None within 50 metres   \n",
       "3             None within 50 metres   \n",
       "4             None within 50 metres   \n",
       "\n",
       "       Pedestrian_Crossing-Physical_Facilities  \\\n",
       "0  Pedestrian phase at traffic signal junction   \n",
       "1        No physical crossing within 50 meters   \n",
       "2             non-junction pedestrian crossing   \n",
       "3        No physical crossing within 50 meters   \n",
       "4        No physical crossing within 50 meters   \n",
       "\n",
       "                          Light_Conditions       Weather_Conditions  \\\n",
       "0  Darkness: Street lights present and lit  Fine without high winds   \n",
       "1  Darkness: Street lights present and lit  Fine without high winds   \n",
       "2           Daylight: Street light present  Fine without high winds   \n",
       "3           Daylight: Street light present  Fine without high winds   \n",
       "4  Darkness: Street lights present and lit  Fine without high winds   \n",
       "\n",
       "  Road_Surface_Conditions  Urban_or_Rural_Area  \\\n",
       "0                     Dry                    1   \n",
       "1                     Dry                    1   \n",
       "2                     Dry                    1   \n",
       "3                     Dry                    1   \n",
       "4                     Dry                    1   \n",
       "\n",
       "  Did_Police_Officer_Attend_Scene_of_Accident  Year  \n",
       "0                                           1  2012  \n",
       "1                                           1  2012  \n",
       "2                                           1  2012  \n",
       "3                                           1  2012  \n",
       "4                                           1  2012  "
      ]
     },
     "execution_count": 32,
     "metadata": {},
     "output_type": "execute_result"
    }
   ],
   "source": [
    "df.head()"
   ]
  },
  {
   "cell_type": "code",
   "execution_count": 33,
   "metadata": {},
   "outputs": [],
   "source": [
    "df2=df.copy()\n"
   ]
  },
  {
   "cell_type": "code",
   "execution_count": 34,
   "metadata": {},
   "outputs": [],
   "source": [
    "from sklearn import preprocessing \n",
    "le = preprocessing.LabelEncoder()"
   ]
  },
  {
   "cell_type": "code",
   "execution_count": 35,
   "metadata": {},
   "outputs": [],
   "source": [
    "df2[\"Road_Type\"] = le.fit_transform(df.Road_Type)\n",
    "df2[\"Light_Conditions\"] = le.fit_transform(df.Light_Conditions)\n",
    "df2[\"Weather_Conditions\"] = le.fit_transform(df.Weather_Conditions)\n",
    "df2[\"Road_Surface_Conditions\"] = le.fit_transform(df.Road_Surface_Conditions)\n",
    "df2= df2.drop(columns=[\"Pedestrian_Crossing-Physical_Facilities\"])"
   ]
  },
  {
   "cell_type": "code",
   "execution_count": 36,
   "metadata": {},
   "outputs": [],
   "source": [
    "\n",
    "df2= df2.drop(columns=[\"Pedestrian_Crossing-Human_Control\"])"
   ]
  },
  {
   "cell_type": "code",
   "execution_count": 37,
   "metadata": {},
   "outputs": [
    {
     "data": {
      "text/html": [
       "<div>\n",
       "<style scoped>\n",
       "    .dataframe tbody tr th:only-of-type {\n",
       "        vertical-align: middle;\n",
       "    }\n",
       "\n",
       "    .dataframe tbody tr th {\n",
       "        vertical-align: top;\n",
       "    }\n",
       "\n",
       "    .dataframe thead th {\n",
       "        text-align: right;\n",
       "    }\n",
       "</style>\n",
       "<table border=\"1\" class=\"dataframe\">\n",
       "  <thead>\n",
       "    <tr style=\"text-align: right;\">\n",
       "      <th></th>\n",
       "      <th>Longitude</th>\n",
       "      <th>Accident_Severity</th>\n",
       "      <th>Number_of_Vehicles</th>\n",
       "      <th>Number_of_Casualties</th>\n",
       "      <th>Day_of_Week</th>\n",
       "      <th>Local_Authority_(District)</th>\n",
       "      <th>Road_Type</th>\n",
       "      <th>Speed_limit</th>\n",
       "      <th>Light_Conditions</th>\n",
       "      <th>Weather_Conditions</th>\n",
       "      <th>Road_Surface_Conditions</th>\n",
       "      <th>Urban_or_Rural_Area</th>\n",
       "      <th>Did_Police_Officer_Attend_Scene_of_Accident</th>\n",
       "      <th>Year</th>\n",
       "    </tr>\n",
       "  </thead>\n",
       "  <tbody>\n",
       "    <tr>\n",
       "      <th>0</th>\n",
       "      <td>-0.169101</td>\n",
       "      <td>3</td>\n",
       "      <td>2</td>\n",
       "      <td>1</td>\n",
       "      <td>5</td>\n",
       "      <td>12</td>\n",
       "      <td>3</td>\n",
       "      <td>30</td>\n",
       "      <td>2</td>\n",
       "      <td>1</td>\n",
       "      <td>0</td>\n",
       "      <td>1</td>\n",
       "      <td>1</td>\n",
       "      <td>2012</td>\n",
       "    </tr>\n",
       "    <tr>\n",
       "      <th>1</th>\n",
       "      <td>-0.200838</td>\n",
       "      <td>3</td>\n",
       "      <td>2</td>\n",
       "      <td>1</td>\n",
       "      <td>4</td>\n",
       "      <td>1</td>\n",
       "      <td>3</td>\n",
       "      <td>30</td>\n",
       "      <td>2</td>\n",
       "      <td>1</td>\n",
       "      <td>0</td>\n",
       "      <td>1</td>\n",
       "      <td>1</td>\n",
       "      <td>2012</td>\n",
       "    </tr>\n",
       "    <tr>\n",
       "      <th>2</th>\n",
       "      <td>-0.188636</td>\n",
       "      <td>3</td>\n",
       "      <td>2</td>\n",
       "      <td>1</td>\n",
       "      <td>3</td>\n",
       "      <td>12</td>\n",
       "      <td>1</td>\n",
       "      <td>30</td>\n",
       "      <td>4</td>\n",
       "      <td>1</td>\n",
       "      <td>0</td>\n",
       "      <td>1</td>\n",
       "      <td>1</td>\n",
       "      <td>2012</td>\n",
       "    </tr>\n",
       "    <tr>\n",
       "      <th>3</th>\n",
       "      <td>-0.200259</td>\n",
       "      <td>3</td>\n",
       "      <td>1</td>\n",
       "      <td>1</td>\n",
       "      <td>4</td>\n",
       "      <td>12</td>\n",
       "      <td>3</td>\n",
       "      <td>30</td>\n",
       "      <td>4</td>\n",
       "      <td>1</td>\n",
       "      <td>0</td>\n",
       "      <td>1</td>\n",
       "      <td>1</td>\n",
       "      <td>2012</td>\n",
       "    </tr>\n",
       "    <tr>\n",
       "      <th>4</th>\n",
       "      <td>-0.183773</td>\n",
       "      <td>3</td>\n",
       "      <td>1</td>\n",
       "      <td>1</td>\n",
       "      <td>3</td>\n",
       "      <td>12</td>\n",
       "      <td>3</td>\n",
       "      <td>30</td>\n",
       "      <td>2</td>\n",
       "      <td>1</td>\n",
       "      <td>0</td>\n",
       "      <td>1</td>\n",
       "      <td>1</td>\n",
       "      <td>2012</td>\n",
       "    </tr>\n",
       "  </tbody>\n",
       "</table>\n",
       "</div>"
      ],
      "text/plain": [
       "   Longitude  Accident_Severity  Number_of_Vehicles  Number_of_Casualties  \\\n",
       "0  -0.169101                  3                   2                     1   \n",
       "1  -0.200838                  3                   2                     1   \n",
       "2  -0.188636                  3                   2                     1   \n",
       "3  -0.200259                  3                   1                     1   \n",
       "4  -0.183773                  3                   1                     1   \n",
       "\n",
       "   Day_of_Week  Local_Authority_(District)  Road_Type  Speed_limit  \\\n",
       "0            5                          12          3           30   \n",
       "1            4                           1          3           30   \n",
       "2            3                          12          1           30   \n",
       "3            4                          12          3           30   \n",
       "4            3                          12          3           30   \n",
       "\n",
       "   Light_Conditions  Weather_Conditions  Road_Surface_Conditions  \\\n",
       "0                 2                   1                        0   \n",
       "1                 2                   1                        0   \n",
       "2                 4                   1                        0   \n",
       "3                 4                   1                        0   \n",
       "4                 2                   1                        0   \n",
       "\n",
       "   Urban_or_Rural_Area Did_Police_Officer_Attend_Scene_of_Accident  Year  \n",
       "0                    1                                           1  2012  \n",
       "1                    1                                           1  2012  \n",
       "2                    1                                           1  2012  \n",
       "3                    1                                           1  2012  \n",
       "4                    1                                           1  2012  "
      ]
     },
     "execution_count": 37,
     "metadata": {},
     "output_type": "execute_result"
    }
   ],
   "source": [
    "df2.head()"
   ]
  },
  {
   "cell_type": "code",
   "execution_count": 38,
   "metadata": {},
   "outputs": [
    {
     "data": {
      "text/plain": [
       "Single carriageway    350680\n",
       "Dual carriageway       65939\n",
       "Roundabout             31775\n",
       "One way street          9056\n",
       "Slip road               4822\n",
       "Unknown                 1669\n",
       "Name: Road_Type, dtype: int64"
      ]
     },
     "execution_count": 38,
     "metadata": {},
     "output_type": "execute_result"
    }
   ],
   "source": [
    "df[\"Road_Type\"].value_counts()"
   ]
  },
  {
   "cell_type": "code",
   "execution_count": 39,
   "metadata": {},
   "outputs": [
    {
     "data": {
      "text/plain": [
       "3    350680\n",
       "0     65939\n",
       "2     31775\n",
       "1      9056\n",
       "4      4822\n",
       "5      1669\n",
       "Name: Road_Type, dtype: int64"
      ]
     },
     "execution_count": 39,
     "metadata": {},
     "output_type": "execute_result"
    }
   ],
   "source": [
    "df2[\"Road_Type\"].value_counts()"
   ]
  },
  {
   "cell_type": "code",
   "execution_count": 40,
   "metadata": {},
   "outputs": [
    {
     "name": "stdout",
     "output_type": "stream",
     "text": [
      "<class 'pandas.core.frame.DataFrame'>\n",
      "Int64Index: 463941 entries, 0 to 464696\n",
      "Data columns (total 14 columns):\n",
      " #   Column                                       Non-Null Count   Dtype  \n",
      "---  ------                                       --------------   -----  \n",
      " 0   Longitude                                    463941 non-null  float64\n",
      " 1   Accident_Severity                            463941 non-null  int64  \n",
      " 2   Number_of_Vehicles                           463941 non-null  int64  \n",
      " 3   Number_of_Casualties                         463941 non-null  int64  \n",
      " 4   Day_of_Week                                  463941 non-null  int64  \n",
      " 5   Local_Authority_(District)                   463941 non-null  int64  \n",
      " 6   Road_Type                                    463941 non-null  int32  \n",
      " 7   Speed_limit                                  463941 non-null  int64  \n",
      " 8   Light_Conditions                             463941 non-null  int32  \n",
      " 9   Weather_Conditions                           463941 non-null  int32  \n",
      " 10  Road_Surface_Conditions                      463941 non-null  int32  \n",
      " 11  Urban_or_Rural_Area                          463941 non-null  int64  \n",
      " 12  Did_Police_Officer_Attend_Scene_of_Accident  463941 non-null  object \n",
      " 13  Year                                         463941 non-null  int64  \n",
      "dtypes: float64(1), int32(4), int64(8), object(1)\n",
      "memory usage: 62.1+ MB\n"
     ]
    }
   ],
   "source": [
    "df2.info()"
   ]
  },
  {
   "cell_type": "code",
   "execution_count": 41,
   "metadata": {},
   "outputs": [],
   "source": [
    "X=df2.drop(\"Accident_Severity\",axis=1)\n",
    "y=df2[\"Accident_Severity\"]"
   ]
  },
  {
   "cell_type": "code",
   "execution_count": 42,
   "metadata": {},
   "outputs": [],
   "source": [
    "X = sm.add_constant(X)"
   ]
  },
  {
   "cell_type": "code",
   "execution_count": 43,
   "metadata": {},
   "outputs": [
    {
     "data": {
      "text/html": [
       "<div>\n",
       "<style scoped>\n",
       "    .dataframe tbody tr th:only-of-type {\n",
       "        vertical-align: middle;\n",
       "    }\n",
       "\n",
       "    .dataframe tbody tr th {\n",
       "        vertical-align: top;\n",
       "    }\n",
       "\n",
       "    .dataframe thead th {\n",
       "        text-align: right;\n",
       "    }\n",
       "</style>\n",
       "<table border=\"1\" class=\"dataframe\">\n",
       "  <thead>\n",
       "    <tr style=\"text-align: right;\">\n",
       "      <th></th>\n",
       "      <th>const</th>\n",
       "      <th>Longitude</th>\n",
       "      <th>Number_of_Vehicles</th>\n",
       "      <th>Number_of_Casualties</th>\n",
       "      <th>Day_of_Week</th>\n",
       "      <th>Local_Authority_(District)</th>\n",
       "      <th>Road_Type</th>\n",
       "      <th>Speed_limit</th>\n",
       "      <th>Light_Conditions</th>\n",
       "      <th>Weather_Conditions</th>\n",
       "      <th>Road_Surface_Conditions</th>\n",
       "      <th>Urban_or_Rural_Area</th>\n",
       "      <th>Did_Police_Officer_Attend_Scene_of_Accident</th>\n",
       "      <th>Year</th>\n",
       "    </tr>\n",
       "  </thead>\n",
       "  <tbody>\n",
       "    <tr>\n",
       "      <th>0</th>\n",
       "      <td>1.0</td>\n",
       "      <td>-0.169101</td>\n",
       "      <td>2</td>\n",
       "      <td>1</td>\n",
       "      <td>5</td>\n",
       "      <td>12</td>\n",
       "      <td>3</td>\n",
       "      <td>30</td>\n",
       "      <td>2</td>\n",
       "      <td>1</td>\n",
       "      <td>0</td>\n",
       "      <td>1</td>\n",
       "      <td>1</td>\n",
       "      <td>2012</td>\n",
       "    </tr>\n",
       "    <tr>\n",
       "      <th>1</th>\n",
       "      <td>1.0</td>\n",
       "      <td>-0.200838</td>\n",
       "      <td>2</td>\n",
       "      <td>1</td>\n",
       "      <td>4</td>\n",
       "      <td>1</td>\n",
       "      <td>3</td>\n",
       "      <td>30</td>\n",
       "      <td>2</td>\n",
       "      <td>1</td>\n",
       "      <td>0</td>\n",
       "      <td>1</td>\n",
       "      <td>1</td>\n",
       "      <td>2012</td>\n",
       "    </tr>\n",
       "    <tr>\n",
       "      <th>2</th>\n",
       "      <td>1.0</td>\n",
       "      <td>-0.188636</td>\n",
       "      <td>2</td>\n",
       "      <td>1</td>\n",
       "      <td>3</td>\n",
       "      <td>12</td>\n",
       "      <td>1</td>\n",
       "      <td>30</td>\n",
       "      <td>4</td>\n",
       "      <td>1</td>\n",
       "      <td>0</td>\n",
       "      <td>1</td>\n",
       "      <td>1</td>\n",
       "      <td>2012</td>\n",
       "    </tr>\n",
       "    <tr>\n",
       "      <th>3</th>\n",
       "      <td>1.0</td>\n",
       "      <td>-0.200259</td>\n",
       "      <td>1</td>\n",
       "      <td>1</td>\n",
       "      <td>4</td>\n",
       "      <td>12</td>\n",
       "      <td>3</td>\n",
       "      <td>30</td>\n",
       "      <td>4</td>\n",
       "      <td>1</td>\n",
       "      <td>0</td>\n",
       "      <td>1</td>\n",
       "      <td>1</td>\n",
       "      <td>2012</td>\n",
       "    </tr>\n",
       "    <tr>\n",
       "      <th>4</th>\n",
       "      <td>1.0</td>\n",
       "      <td>-0.183773</td>\n",
       "      <td>1</td>\n",
       "      <td>1</td>\n",
       "      <td>3</td>\n",
       "      <td>12</td>\n",
       "      <td>3</td>\n",
       "      <td>30</td>\n",
       "      <td>2</td>\n",
       "      <td>1</td>\n",
       "      <td>0</td>\n",
       "      <td>1</td>\n",
       "      <td>1</td>\n",
       "      <td>2012</td>\n",
       "    </tr>\n",
       "  </tbody>\n",
       "</table>\n",
       "</div>"
      ],
      "text/plain": [
       "   const  Longitude  Number_of_Vehicles  Number_of_Casualties  Day_of_Week  \\\n",
       "0    1.0  -0.169101                   2                     1            5   \n",
       "1    1.0  -0.200838                   2                     1            4   \n",
       "2    1.0  -0.188636                   2                     1            3   \n",
       "3    1.0  -0.200259                   1                     1            4   \n",
       "4    1.0  -0.183773                   1                     1            3   \n",
       "\n",
       "   Local_Authority_(District)  Road_Type  Speed_limit  Light_Conditions  \\\n",
       "0                          12          3           30                 2   \n",
       "1                           1          3           30                 2   \n",
       "2                          12          1           30                 4   \n",
       "3                          12          3           30                 4   \n",
       "4                          12          3           30                 2   \n",
       "\n",
       "   Weather_Conditions  Road_Surface_Conditions  Urban_or_Rural_Area  \\\n",
       "0                   1                        0                    1   \n",
       "1                   1                        0                    1   \n",
       "2                   1                        0                    1   \n",
       "3                   1                        0                    1   \n",
       "4                   1                        0                    1   \n",
       "\n",
       "  Did_Police_Officer_Attend_Scene_of_Accident  Year  \n",
       "0                                           1  2012  \n",
       "1                                           1  2012  \n",
       "2                                           1  2012  \n",
       "3                                           1  2012  \n",
       "4                                           1  2012  "
      ]
     },
     "execution_count": 43,
     "metadata": {},
     "output_type": "execute_result"
    }
   ],
   "source": [
    "X.head()"
   ]
  },
  {
   "cell_type": "code",
   "execution_count": 44,
   "metadata": {},
   "outputs": [
    {
     "data": {
      "text/plain": [
       "(463941, 14)"
      ]
     },
     "execution_count": 44,
     "metadata": {},
     "output_type": "execute_result"
    }
   ],
   "source": [
    "df2.shape"
   ]
  },
  {
   "cell_type": "code",
   "execution_count": 45,
   "metadata": {},
   "outputs": [
    {
     "data": {
      "text/plain": [
       "(463941, 14)"
      ]
     },
     "execution_count": 45,
     "metadata": {},
     "output_type": "execute_result"
    }
   ],
   "source": [
    "X.shape"
   ]
  },
  {
   "cell_type": "code",
   "execution_count": 46,
   "metadata": {},
   "outputs": [],
   "source": [
    "from sklearn.model_selection import train_test_split"
   ]
  },
  {
   "cell_type": "code",
   "execution_count": 47,
   "metadata": {},
   "outputs": [],
   "source": [
    "X_train, X_test, y_train, y_test = train_test_split(X, y, test_size = 0.30, random_state= 42)"
   ]
  },
  {
   "cell_type": "code",
   "execution_count": 48,
   "metadata": {},
   "outputs": [
    {
     "data": {
      "text/plain": [
       "(324758, 14)"
      ]
     },
     "execution_count": 48,
     "metadata": {},
     "output_type": "execute_result"
    }
   ],
   "source": [
    "X_train.shape"
   ]
  },
  {
   "cell_type": "code",
   "execution_count": 49,
   "metadata": {},
   "outputs": [
    {
     "data": {
      "text/plain": [
       "(324758,)"
      ]
     },
     "execution_count": 49,
     "metadata": {},
     "output_type": "execute_result"
    }
   ],
   "source": [
    "y_train.shape"
   ]
  },
  {
   "cell_type": "code",
   "execution_count": 50,
   "metadata": {},
   "outputs": [],
   "source": [
    "from sklearn.naive_bayes import GaussianNB \n",
    "#bağımlı değişkende 3 tane kategorik değişken olduğu için bunu kullanıyorum \n",
    "\n",
    "\n",
    "nb = GaussianNB()\n",
    "nb_model = nb.fit(X_train, y_train)"
   ]
  },
  {
   "cell_type": "code",
   "execution_count": 51,
   "metadata": {},
   "outputs": [],
   "source": [
    "y_tahmin=y_pred = nb_model.predict(X_test)"
   ]
  },
  {
   "cell_type": "code",
   "execution_count": 52,
   "metadata": {},
   "outputs": [
    {
     "data": {
      "text/plain": [
       "array([3, 3, 3, ..., 3, 3, 3], dtype=int64)"
      ]
     },
     "execution_count": 52,
     "metadata": {},
     "output_type": "execute_result"
    }
   ],
   "source": [
    "y_tahmin"
   ]
  },
  {
   "cell_type": "code",
   "execution_count": 53,
   "metadata": {},
   "outputs": [
    {
     "data": {
      "text/plain": [
       "75754     3\n",
       "139501    3\n",
       "189657    3\n",
       "249478    3\n",
       "196662    3\n",
       "         ..\n",
       "342667    2\n",
       "97856     2\n",
       "258642    3\n",
       "32234     3\n",
       "430744    3\n",
       "Name: Accident_Severity, Length: 139183, dtype: int64"
      ]
     },
     "execution_count": 53,
     "metadata": {},
     "output_type": "execute_result"
    }
   ],
   "source": [
    "y_test"
   ]
  },
  {
   "cell_type": "code",
   "execution_count": 54,
   "metadata": {},
   "outputs": [
    {
     "data": {
      "text/html": [
       "<div>\n",
       "<style scoped>\n",
       "    .dataframe tbody tr th:only-of-type {\n",
       "        vertical-align: middle;\n",
       "    }\n",
       "\n",
       "    .dataframe tbody tr th {\n",
       "        vertical-align: top;\n",
       "    }\n",
       "\n",
       "    .dataframe thead th {\n",
       "        text-align: right;\n",
       "    }\n",
       "</style>\n",
       "<table border=\"1\" class=\"dataframe\">\n",
       "  <thead>\n",
       "    <tr style=\"text-align: right;\">\n",
       "      <th></th>\n",
       "      <th>Kaza_siddeti</th>\n",
       "      <th>tahmin_edilmis_kaza_siddeti</th>\n",
       "    </tr>\n",
       "  </thead>\n",
       "  <tbody>\n",
       "    <tr>\n",
       "      <th>75754</th>\n",
       "      <td>3</td>\n",
       "      <td>3</td>\n",
       "    </tr>\n",
       "    <tr>\n",
       "      <th>139501</th>\n",
       "      <td>3</td>\n",
       "      <td>3</td>\n",
       "    </tr>\n",
       "    <tr>\n",
       "      <th>189657</th>\n",
       "      <td>3</td>\n",
       "      <td>3</td>\n",
       "    </tr>\n",
       "    <tr>\n",
       "      <th>249478</th>\n",
       "      <td>3</td>\n",
       "      <td>3</td>\n",
       "    </tr>\n",
       "    <tr>\n",
       "      <th>196662</th>\n",
       "      <td>3</td>\n",
       "      <td>3</td>\n",
       "    </tr>\n",
       "    <tr>\n",
       "      <th>...</th>\n",
       "      <td>...</td>\n",
       "      <td>...</td>\n",
       "    </tr>\n",
       "    <tr>\n",
       "      <th>342667</th>\n",
       "      <td>2</td>\n",
       "      <td>3</td>\n",
       "    </tr>\n",
       "    <tr>\n",
       "      <th>97856</th>\n",
       "      <td>2</td>\n",
       "      <td>1</td>\n",
       "    </tr>\n",
       "    <tr>\n",
       "      <th>258642</th>\n",
       "      <td>3</td>\n",
       "      <td>3</td>\n",
       "    </tr>\n",
       "    <tr>\n",
       "      <th>32234</th>\n",
       "      <td>3</td>\n",
       "      <td>3</td>\n",
       "    </tr>\n",
       "    <tr>\n",
       "      <th>430744</th>\n",
       "      <td>3</td>\n",
       "      <td>3</td>\n",
       "    </tr>\n",
       "  </tbody>\n",
       "</table>\n",
       "<p>139183 rows × 2 columns</p>\n",
       "</div>"
      ],
      "text/plain": [
       "        Kaza_siddeti  tahmin_edilmis_kaza_siddeti\n",
       "75754              3                            3\n",
       "139501             3                            3\n",
       "189657             3                            3\n",
       "249478             3                            3\n",
       "196662             3                            3\n",
       "...              ...                          ...\n",
       "342667             2                            3\n",
       "97856              2                            1\n",
       "258642             3                            3\n",
       "32234              3                            3\n",
       "430744             3                            3\n",
       "\n",
       "[139183 rows x 2 columns]"
      ]
     },
     "execution_count": 54,
     "metadata": {},
     "output_type": "execute_result"
    }
   ],
   "source": [
    "testdf= pd.DataFrame({\"Kaza_siddeti\":y_test, \"tahmin_edilmis_kaza_siddeti\":y_tahmin})\n",
    "testdf"
   ]
  },
  {
   "cell_type": "code",
   "execution_count": 55,
   "metadata": {},
   "outputs": [
    {
     "data": {
      "text/plain": [
       "array([[2.90592653e-20, 9.16664421e-03, 9.90833356e-01],\n",
       "       [3.75580817e-02, 2.47882268e-01, 7.14559650e-01],\n",
       "       [3.46000114e-03, 1.39422354e-01, 8.57117645e-01],\n",
       "       [7.03895112e-03, 1.16668647e-01, 8.76292402e-01],\n",
       "       [3.05581736e-03, 1.07985867e-01, 8.88958316e-01],\n",
       "       [6.34860168e-03, 1.42646899e-01, 8.51004499e-01],\n",
       "       [9.61354060e-04, 4.99969455e-02, 9.49041700e-01],\n",
       "       [7.95806271e-03, 1.87398621e-01, 8.04643316e-01],\n",
       "       [2.85013788e-03, 1.05044879e-01, 8.92104984e-01],\n",
       "       [6.76526433e-02, 9.58795616e-02, 8.36467795e-01]])"
      ]
     },
     "execution_count": 55,
     "metadata": {},
     "output_type": "execute_result"
    }
   ],
   "source": [
    "nb_model.predict_proba(X_test)[0:10]"
   ]
  },
  {
   "cell_type": "code",
   "execution_count": 56,
   "metadata": {},
   "outputs": [],
   "source": [
    "from sklearn.metrics import confusion_matrix, accuracy_score, classification_report"
   ]
  },
  {
   "cell_type": "code",
   "execution_count": 57,
   "metadata": {},
   "outputs": [
    {
     "data": {
      "text/plain": [
       "0.7938828736268079"
      ]
     },
     "execution_count": 57,
     "metadata": {},
     "output_type": "execute_result"
    }
   ],
   "source": [
    "accuracy_score(y_test, y_tahmin) # doğruluk \n",
    "#yaptığımız modelde yüzde 79 ihtimalle kaza şiddetini tahmin edebiliriz. \n"
   ]
  },
  {
   "cell_type": "code",
   "execution_count": 58,
   "metadata": {},
   "outputs": [],
   "source": [
    "from sklearn.model_selection import train_test_split, GridSearchCV, cross_val_score\n"
   ]
  },
  {
   "cell_type": "code",
   "execution_count": 59,
   "metadata": {},
   "outputs": [
    {
     "data": {
      "text/plain": [
       "0.7997744215730697"
      ]
     },
     "execution_count": 59,
     "metadata": {},
     "output_type": "execute_result"
    }
   ],
   "source": [
    "cross_val_score(nb_model,X_test,y_test,cv=10).mean()\n",
    "\n",
    "#çapraz doğrulama skoru"
   ]
  }
 ],
 "metadata": {
  "kernelspec": {
   "display_name": "Python 3",
   "language": "python",
   "name": "python3"
  },
  "language_info": {
   "codemirror_mode": {
    "name": "ipython",
    "version": 3
   },
   "file_extension": ".py",
   "mimetype": "text/x-python",
   "name": "python",
   "nbconvert_exporter": "python",
   "pygments_lexer": "ipython3",
   "version": "3.10.11"
  }
 },
 "nbformat": 4,
 "nbformat_minor": 2
}
